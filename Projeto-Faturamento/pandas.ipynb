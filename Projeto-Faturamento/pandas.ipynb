{
 "cells": [
  {
   "cell_type": "markdown",
   "id": "88cc04a8",
   "metadata": {},
   "source": [
    "# Programa para Calcular Faturamento com Pandas"
   ]
  },
  {
   "cell_type": "code",
   "execution_count": 115,
   "id": "2d8fa042",
   "metadata": {},
   "outputs": [
    {
     "data": {
      "text/plain": [
       "'pt_BR.UTF-8'"
      ]
     },
     "execution_count": 115,
     "metadata": {},
     "output_type": "execute_result"
    }
   ],
   "source": [
    "import pandas as pd\n",
    "from glob import glob\n",
    "import locale\n",
    "locale.setlocale(locale.LC_ALL, 'pt_BR.UTF-8')"
   ]
  },
  {
   "cell_type": "markdown",
   "id": "8ae40a89",
   "metadata": {},
   "source": [
    "No Codigo abaixo, estamos usando a biblioteca glob para juntar todos arquivos de vendas em apenas um, fazemos o mesmo com os arquivos de devolução"
   ]
  },
  {
   "cell_type": "code",
   "execution_count": 116,
   "id": "18826820",
   "metadata": {},
   "outputs": [],
   "source": [
    "Vendas = sorted(glob(r\"Vendas-Devolucoes/Vendas/Vendas - *.csv\"))\n",
    "Devolucoes = sorted(glob(r\"Vendas-Devolucoes/Devolucoes/Devolucoes - *.csv\"))"
   ]
  },
  {
   "cell_type": "markdown",
   "id": "18f6d804",
   "metadata": {},
   "source": [
    "Na função abaixo, usamos o comando \"global\" para fazer as variaveis ao lado possa ser utilizado em todo canto do codigo e não seja apenas uma variavel de escopo"
   ]
  },
  {
   "cell_type": "code",
   "execution_count": 117,
   "id": "c728c95a",
   "metadata": {},
   "outputs": [],
   "source": [
    "def todos_arquivos():\n",
    "    global todos_arquivos_venda, todos_arquivos_devolucao\n",
    "    todos_arquivos_venda = pd.concat((pd.read_csv(cont) for cont in Vendas), ignore_index= True)  \n",
    "    todos_arquivos_devolucao = pd.concat((pd.read_csv(cont) for cont in Devolucoes), ignore_index=True)\n",
    "    todos_arquivos_devolucao = todos_arquivos_devolucao.dropna(how=\"any\", axis= 1)\n",
    "    todos_arquivos_venda = todos_arquivos_venda.dropna(how=\"any\", axis= 1)"
   ]
  },
  {
   "cell_type": "markdown",
   "id": "256d8c11",
   "metadata": {},
   "source": [
    "Na função abaixo, fazemos os calculos multiplicando o valor unitário do produto pela quantidade vendida, assim criando uma coluna apenas com esses valores. Fazemos isso tanto com os valores de devolução, tanto com o de vendas"
   ]
  },
  {
   "cell_type": "code",
   "execution_count": 118,
   "id": "d5b95880",
   "metadata": {},
   "outputs": [],
   "source": [
    "def calculo_total_vendido_devolucao(Valor_Total_Vendido, Valor_Total_Devolvido, Preco_Unitario, Preço_Unitário, Quantidade_Devolvida, Quantidade_Vendida):\n",
    "    todos_arquivos_venda[Valor_Total_Vendido]= todos_arquivos_venda[Preco_Unitario] * todos_arquivos_venda[Quantidade_Vendida]\n",
    "    todos_arquivos_devolucao[Valor_Total_Devolvido]= todos_arquivos_devolucao[Preço_Unitário] * todos_arquivos_devolucao[Quantidade_Devolvida]"
   ]
  },
  {
   "cell_type": "markdown",
   "id": "d6817260",
   "metadata": {},
   "source": [
    "Na função abaixo, chamamos a funçao \"calculo_total_vendido_devolucao\". Além disso, pegamos a tabela feita na funçao acima e usamos o comando \"groupby\". O comando \"groupby\" organiza todos os elementos da coluna indicada, e o comando após o \"groupby\" serve para as demais colunas da tabela, nesse caso ele soma as demais colunas. Após organizar as tabelas, fazemos os calculos de faturamento subtraindo, e logo depois transformando as tuplas em um dicionario para trabalhar melhor com os valores, assim pegamos o maior valor em faturamento, transfomarmos para a moeda real do Brasil, e pegamos o nome do produto com maior faturamento "
   ]
  },
  {
   "cell_type": "code",
   "execution_count": 119,
   "id": "d58da94d",
   "metadata": {},
   "outputs": [],
   "source": [
    "def maior_faturamento_produto():\n",
    "    calculo_total_vendido_devolucao(\"Valor Total Vendido\", \"Valor Total Devolvido\", \"Preco Unitario\", \"Preço Unitário\", \"Quantidade Devolvida\", \"Quantidade Vendida\")\n",
    "    produto_venda = todos_arquivos_venda.groupby([\"Produto\"]).sum()\n",
    "    produto_devolucao = todos_arquivos_devolucao.groupby([\"Produto\"]).sum()\n",
    "    subtracao_faturamento = abs(produto_devolucao[\"Valor Total Devolvido\"] - produto_venda[\"Valor Total Vendido\"])\n",
    "    dic = dict(subtracao_faturamento)\n",
    "    maior_numero = max(dic.values())\n",
    "    formatacao_em_real = locale.currency(maior_numero, grouping=True) \n",
    "    for chave, valor in dic.items():\n",
    "        if valor == maior_numero:\n",
    "            return f\"o produto {chave} teve o maior faturamento comparado a outros produtos, sendo seu faturamento de {formatacao_em_real}\""
   ]
  },
  {
   "cell_type": "markdown",
   "id": "8b43bd43",
   "metadata": {},
   "source": [
    "Nessa função, fazemos quase o mesmo que na função acima, porem dessa vez achamos o valor e o nome do produto q teve maior devolução "
   ]
  },
  {
   "cell_type": "code",
   "execution_count": 120,
   "id": "097129f6",
   "metadata": {},
   "outputs": [],
   "source": [
    "def produto_maior_devolucao():\n",
    "    numero_devolucao = todos_arquivos_devolucao.groupby([\"Produto\"]).max()\n",
    "    dicionario_numeros_devolucoes = dict(numero_devolucao[\"Valor Total Devolvido\"])\n",
    "    maior_numero_devolucao = max(dicionario_numeros_devolucoes.values())\n",
    "    formatacao_em_real_devolucao = locale.currency(maior_numero_devolucao, grouping=True)\n",
    "    return f\"o valor com maior numero de devoluções foi {max(dicionario_numeros_devolucoes)} com {formatacao_em_real_devolucao}\""
   ]
  },
  {
   "cell_type": "markdown",
   "id": "e53d1864",
   "metadata": {},
   "source": [
    "Abaixo apenas chamamos as funções para elas rodarem"
   ]
  },
  {
   "cell_type": "code",
   "execution_count": 125,
   "id": "a0e9277a",
   "metadata": {},
   "outputs": [
    {
     "data": {
      "text/plain": [
       "'o produto Televisão teve o maior faturamento comparado a outros produtos, sendo seu faturamento de R$ 14.460.000,00'"
      ]
     },
     "execution_count": 125,
     "metadata": {},
     "output_type": "execute_result"
    }
   ],
   "source": [
    "maior_faturamento_produto()"
   ]
  },
  {
   "cell_type": "code",
   "execution_count": 124,
   "id": "09e09228",
   "metadata": {
    "scrolled": false
   },
   "outputs": [
    {
     "data": {
      "text/plain": [
       "'o valor com maior numero de devoluções foi Televisão com R$ 26.500,00'"
      ]
     },
     "execution_count": 124,
     "metadata": {},
     "output_type": "execute_result"
    }
   ],
   "source": [
    "produto_maior_devolucao()"
   ]
  }
 ],
 "metadata": {
  "kernelspec": {
   "display_name": "Python 3 (ipykernel)",
   "language": "python",
   "name": "python3"
  },
  "language_info": {
   "codemirror_mode": {
    "name": "ipython",
    "version": 3
   },
   "file_extension": ".py",
   "mimetype": "text/x-python",
   "name": "python",
   "nbconvert_exporter": "python",
   "pygments_lexer": "ipython3",
   "version": "3.11.5"
  }
 },
 "nbformat": 4,
 "nbformat_minor": 5
}
